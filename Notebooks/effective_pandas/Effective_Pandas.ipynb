{
 "cells": [
  {
   "cell_type": "code",
   "execution_count": 1,
   "id": "f62c92be",
   "metadata": {},
   "outputs": [],
   "source": [
    "import pandas as pd\n",
    "import numpy as np"
   ]
  },
  {
   "cell_type": "code",
   "execution_count": 6,
   "id": "e64a808f",
   "metadata": {},
   "outputs": [
    {
     "data": {
      "text/plain": [
       "0    22\n",
       "1    21\n",
       "4    20\n",
       "6    20\n",
       "dtype: int64"
      ]
     },
     "execution_count": 6,
     "metadata": {},
     "output_type": "execute_result"
    }
   ],
   "source": [
    "# create temperature series for past seven days\n",
    "temp7 = pd.Series([22,21,18,17,20,19,20])\n",
    "# calculate mean\n",
    "mean_temp7 = temp7.mean()\n",
    "# filter out values below the mean\n",
    "filter_mask = temp7>mean_temp7\n",
    "temp7_abovemean = temp7[filter_mask]\n",
    "temp7_abovemean"
   ]
  },
  {
   "cell_type": "code",
   "execution_count": 7,
   "id": "387884ea",
   "metadata": {},
   "outputs": [
    {
     "data": {
      "text/plain": [
       "0      Navy blue\n",
       "1          Black\n",
       "2            Red\n",
       "3    Powder blue\n",
       "4         Purple\n",
       "dtype: category\n",
       "Categories (5, object): ['Black', 'Navy blue', 'Powder blue', 'Purple', 'Red']"
      ]
     },
     "execution_count": 7,
     "metadata": {},
     "output_type": "execute_result"
    }
   ],
   "source": [
    "# create a series with your favourite colour\n",
    "fav_colours = pd.Series([\"Navy blue\",\"Black\",\"Red\",\"Powder blue\",\"Purple\"])\n",
    "# convert to categorical\n",
    "fav_colours = fav_colours.astype(\"category\")\n",
    "fav_colours"
   ]
  },
  {
   "cell_type": "code",
   "execution_count": 9,
   "id": "8e5c632f",
   "metadata": {},
   "outputs": [
    {
     "data": {
      "text/plain": [
       "0      Navy blue\n",
       "1          Black\n",
       "2            Red\n",
       "3    Powder blue\n",
       "4         Purple\n",
       "dtype: category\n",
       "Categories (5, object): ['Navy blue' < 'Black' < 'Red' < 'Powder blue' < 'Purple']"
      ]
     },
     "execution_count": 9,
     "metadata": {},
     "output_type": "execute_result"
    }
   ],
   "source": [
    "# create ranking for fav colours -Ordinal data\n",
    "ranking = pd.api.types.CategoricalDtype(\n",
    "categories = [\"Navy blue\",\"Black\",\"Red\",\"Powder blue\",\"Purple\"], \n",
    "ordered=True)\n",
    "fav_colours = fav_colours.astype(ranking)\n",
    "fav_colours"
   ]
  },
  {
   "cell_type": "code",
   "execution_count": null,
   "id": "4a2816ba",
   "metadata": {},
   "outputs": [],
   "source": []
  }
 ],
 "metadata": {
  "kernelspec": {
   "display_name": "Python 3 (ipykernel)",
   "language": "python",
   "name": "python3"
  },
  "language_info": {
   "codemirror_mode": {
    "name": "ipython",
    "version": 3
   },
   "file_extension": ".py",
   "mimetype": "text/x-python",
   "name": "python",
   "nbconvert_exporter": "python",
   "pygments_lexer": "ipython3",
   "version": "3.9.12"
  }
 },
 "nbformat": 4,
 "nbformat_minor": 5
}
